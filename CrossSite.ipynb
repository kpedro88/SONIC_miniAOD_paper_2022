{
 "cells": [
  {
   "cell_type": "code",
   "execution_count": 1,
   "id": "bf9aece3",
   "metadata": {},
   "outputs": [
    {
     "name": "stdout",
     "output_type": "stream",
     "text": [
      "Welcome to JupyROOT 6.26/06\n"
     ]
    }
   ],
   "source": [
    "import numpy as np\n",
    "import pandas as pd\n",
    "from collections import OrderedDict\n",
    "import ROOT\n",
    "from ROOT import gROOT\n",
    "import math"
   ]
  },
  {
   "cell_type": "code",
   "execution_count": 2,
   "id": "ba35e79f",
   "metadata": {},
   "outputs": [],
   "source": [
    "import CMS_lumi, tdrstyle\n",
    "from array import array\n",
    "\n",
    "#set the tdr style\n",
    "tdrstyle.setTDRStyle()"
   ]
  },
  {
   "cell_type": "code",
   "execution_count": 16,
   "id": "6f80334a",
   "metadata": {},
   "outputs": [],
   "source": [
    "#change the CMS_lumi variables (see CMS_lumi.py)\n",
    "CMS_lumi.lumi_7TeV = \"4.8 fb^{-1}\"\n",
    "CMS_lumi.lumi_8TeV = \"18.3 fb^{-1}\"\n",
    "CMS_lumi.writeExtraText = 1\n",
    "CMS_lumi.extraText = \"Simulation Preliminary\"\n",
    "CMS_lumi.extraText = \"Simulation\"\n",
    "CMS_lumi.lumi_sqrtS = \"13 TeV\" # used with iPeriod = 0, e.g. for simulation-only plots (default is an empty string)\n",
    "#CMS_lumi.lumi_sqrtS = \"\"\n",
    "\n",
    "iPos = 11\n",
    "iPos = 0\n",
    "if( iPos==0 ): CMS_lumi.relPosX = 0.12"
   ]
  },
  {
   "cell_type": "code",
   "execution_count": 17,
   "id": "4dd31a75",
   "metadata": {},
   "outputs": [
    {
     "name": "stderr",
     "output_type": "stream",
     "text": [
      "Warning in <TCanvas::Constructor>: Deleting canvas with same name: c2\n"
     ]
    }
   ],
   "source": [
    "H_ref = 600; \n",
    "W_ref = 800; \n",
    "W = W_ref\n",
    "H  = H_ref\n",
    "\n",
    "# \n",
    "# Simple example of macro: plot with CMS name and lumi text\n",
    "#  (this script does not pretend to work in all configurations)\n",
    "# iPeriod = 1*(0/1 7 TeV) + 2*(0/1 8 TeV)  + 4*(0/1 13 TeV) \n",
    "# For instance: \n",
    "#               iPeriod = 3 means: 7 TeV + 8 TeV\n",
    "#               iPeriod = 7 means: 7 TeV + 8 TeV + 13 TeV \n",
    "#               iPeriod = 0 means: free form (uses lumi_sqrtS)\n",
    "# Initiated by: Gautier Hamel de Monchenault (Saclay)\n",
    "# Translated in Python by: Joshua Hardenbrook (Princeton)\n",
    "# Updated by:   Dinko Ferencek (Rutgers)\n",
    "#\n",
    "\n",
    "iPeriod = 3\n",
    "\n",
    "# references for T, B, L, R\n",
    "T = 0.08*H_ref\n",
    "B = 0.15*H_ref \n",
    "L = 0.15*W_ref\n",
    "R = 0.04*W_ref\n",
    "\n",
    "canvas = ROOT.TCanvas(\"c2\",\"c2\",50,50,W,H)\n",
    "canvas.SetFillColor(0)\n",
    "canvas.SetBorderMode(0)\n",
    "canvas.SetFrameFillStyle(0)\n",
    "canvas.SetFrameBorderMode(0)\n",
    "canvas.SetLeftMargin( L/W )\n",
    "canvas.SetRightMargin( R/W )\n",
    "canvas.SetTopMargin( T/H )\n",
    "canvas.SetBottomMargin( B/H )\n",
    "canvas.SetTickx(1)\n",
    "canvas.SetTicky(1)\n",
    "\n",
    "padsize1 = 1\n",
    "padsize2 = 0\n",
    "padsize3 = 0"
   ]
  },
  {
   "cell_type": "code",
   "execution_count": 18,
   "id": "d715889f",
   "metadata": {},
   "outputs": [],
   "source": [
    "xmin = 0\n",
    "xmax = 25.0\n",
    "ymin = 4.17 * 0.8\n",
    "ymax = 4.17 * 1.3\n",
    "ytitle = \"Throughput [evt/s]\"\n",
    "#xtitle = \"nThreads per job\"\n",
    "xtitle = \"Number of synchronized 4-threaded jobs\""
   ]
  },
  {
   "cell_type": "code",
   "execution_count": 19,
   "id": "a01a6568",
   "metadata": {},
   "outputs": [],
   "source": [
    "dfs = OrderedDict()\n",
    "dfs[\"Cloud\"] = pd.read_csv('cross_site/results_cloud.csv', header=None, delimiter=r\"\\s+\")\n",
    "dfs[\"Purdue\"] = pd.read_csv('cross_site/results_purdue.csv', header=None, delimiter=r\"\\s+\")"
   ]
  },
  {
   "cell_type": "code",
   "execution_count": 20,
   "id": "50de705b",
   "metadata": {},
   "outputs": [
    {
     "data": {
      "text/html": [
       "<div>\n",
       "<style scoped>\n",
       "    .dataframe tbody tr th:only-of-type {\n",
       "        vertical-align: middle;\n",
       "    }\n",
       "\n",
       "    .dataframe tbody tr th {\n",
       "        vertical-align: top;\n",
       "    }\n",
       "\n",
       "    .dataframe thead th {\n",
       "        text-align: right;\n",
       "    }\n",
       "</style>\n",
       "<table border=\"1\" class=\"dataframe\">\n",
       "  <thead>\n",
       "    <tr style=\"text-align: right;\">\n",
       "      <th></th>\n",
       "      <th>0</th>\n",
       "      <th>1</th>\n",
       "    </tr>\n",
       "  </thead>\n",
       "  <tbody>\n",
       "    <tr>\n",
       "      <th>0</th>\n",
       "      <td>4</td>\n",
       "      <td>4.58</td>\n",
       "    </tr>\n",
       "    <tr>\n",
       "      <th>1</th>\n",
       "      <td>8</td>\n",
       "      <td>4.56</td>\n",
       "    </tr>\n",
       "    <tr>\n",
       "      <th>2</th>\n",
       "      <td>12</td>\n",
       "      <td>4.48</td>\n",
       "    </tr>\n",
       "    <tr>\n",
       "      <th>3</th>\n",
       "      <td>16</td>\n",
       "      <td>4.30</td>\n",
       "    </tr>\n",
       "    <tr>\n",
       "      <th>4</th>\n",
       "      <td>20</td>\n",
       "      <td>3.75</td>\n",
       "    </tr>\n",
       "  </tbody>\n",
       "</table>\n",
       "</div>"
      ],
      "text/plain": [
       "    0     1\n",
       "0   4  4.58\n",
       "1   8  4.56\n",
       "2  12  4.48\n",
       "3  16  4.30\n",
       "4  20  3.75"
      ]
     },
     "execution_count": 20,
     "metadata": {},
     "output_type": "execute_result"
    }
   ],
   "source": [
    "dfs['Cloud']"
   ]
  },
  {
   "cell_type": "code",
   "execution_count": 21,
   "id": "dc754b7d",
   "metadata": {},
   "outputs": [
    {
     "name": "stderr",
     "output_type": "stream",
     "text": [
      "Warning in <TROOT::Append>: Replacing existing TH1: h1 (Potential memory leak).\n"
     ]
    }
   ],
   "source": [
    "h1 = ROOT.TH1F(\"h1\", \"h1\", 80, xmin, xmax)\n",
    "h1.SetMinimum(ymin)\n",
    "h1.SetMaximum(ymax)\n",
    "#print \"xmin : %f xmax : %f\"%(xmin, xmax)\n",
    "h1.GetXaxis().SetNdivisions(6, 5, 0)\n",
    "h1.GetXaxis().SetTitle(xtitle)\n",
    "h1.GetYaxis().SetNdivisions(6, 5, 0)\n",
    "h1.GetYaxis().SetTitle(ytitle)\n",
    "h1.GetYaxis().SetTitleSize(0.050/(padsize1+padsize3))\n",
    "h1.GetYaxis().SetLabelSize(0.045/(padsize1+padsize3))\n",
    "h1.GetXaxis().SetTitleSize(0.050/(padsize1+padsize3))\n",
    "h1.GetXaxis().SetLabelSize(0.045/(padsize1+padsize3))\n",
    "h1.GetYaxis().SetTitleOffset(1.35*(padsize1+padsize3)*(600.0/W))\n",
    "h1.GetXaxis().SetTitleOffset(1.1*(padsize1+padsize3))\n",
    "h1.Draw()"
   ]
  },
  {
   "cell_type": "code",
   "execution_count": 22,
   "id": "6af051d4",
   "metadata": {},
   "outputs": [
    {
     "name": "stdout",
     "output_type": "stream",
     "text": [
      "array('d', [4.0, 8.0, 12.0, 16.0, 20.0])\n",
      "array('d', [4.58, 4.56, 4.48, 4.3, 3.75])\n",
      "array('d', [4.0, 8.0, 12.0, 16.0, 20.0])\n",
      "array('d', [4.6, 4.57, 4.43, 4.27, 3.71])\n",
      "drawing\n",
      "drawing\n"
     ]
    }
   ],
   "source": [
    "graphs = []\n",
    "colors = [2,4,3]\n",
    "styles = [20, 21, 22, 23]\n",
    "\n",
    "for key, val in dfs.items():\n",
    "    # TGraphErrors only support array.array, not numpy arrays..???\n",
    "    xvals = array('d', val.iloc[:,0].tolist())\n",
    "    yvals = array('d', val.iloc[:,1].tolist())\n",
    "    gr = ROOT.TGraph(5, xvals, yvals)\n",
    "    print(xvals)\n",
    "    print(yvals)\n",
    "    graphs.append(gr)\n",
    "\n",
    "for m in range(len(graphs)):\n",
    "    graphs[m].SetLineColor( colors[m] )\n",
    "    graphs[m].SetLineWidth( 2 )\n",
    "    graphs[m].SetMarkerColor( colors[m] )\n",
    "    graphs[m].SetMarkerStyle( styles[m] )\n",
    "    print(\"drawing\")\n",
    "    graphs[m].Draw('LEPsame')"
   ]
  },
  {
   "cell_type": "code",
   "execution_count": 23,
   "id": "67c820b3",
   "metadata": {},
   "outputs": [],
   "source": [
    "testLine = ROOT.TLine(xmin, 4.17, xmax, 4.17)\n",
    "testLine.SetLineStyle(2)\n",
    "testLine.SetLineWidth(2)\n",
    "testLine.SetLineColor(1)\n",
    "testLine.Draw('same')"
   ]
  },
  {
   "cell_type": "code",
   "execution_count": 24,
   "id": "0ee89214",
   "metadata": {},
   "outputs": [
    {
     "name": "stdout",
     "output_type": "stream",
     "text": [
      "13 TeV\n"
     ]
    }
   ],
   "source": [
    "CMS_lumi.CMS_lumi( canvas, 0, iPos )\n",
    "legend = ROOT.TLegend(0.45,0.7,0.75,0.9);\n",
    "#legend.SetHeader(\"The Legend Title\",\"C\"); // option \"C\" allows to center the header\n",
    "legend.AddEntry(graphs[0],'SONIC with GCP Server',\"epl\");\n",
    "legend.AddEntry(graphs[1],\"SONIC with Purdue Server\",\"epl\");\n",
    "legend.AddEntry(testLine,'Average of \"Direct-inference\" Jobs',\"l\");\n",
    "#gStyle.SetLegendBorderSize(1);\n",
    "#gStyle.SetLegendFillColor(0);\n",
    "legend.SetTextFont(42);\n",
    "legend.SetTextSize(0.035);\n",
    "legend.Draw('same');"
   ]
  },
  {
   "cell_type": "code",
   "execution_count": 25,
   "id": "51854311",
   "metadata": {},
   "outputs": [
    {
     "data": {
      "image/png": "[encoded data removed]",
      "text/plain": [
       "<IPython.core.display.Image object>"
      ]
     },
     "metadata": {},
     "output_type": "display_data"
    }
   ],
   "source": [
    "canvas.Draw()"
   ]
  },
  {
   "cell_type": "code",
   "execution_count": 26,
   "id": "dff166dc",
   "metadata": {},
   "outputs": [
    {
     "name": "stderr",
     "output_type": "stream",
     "text": [
      "Info in <TCanvas::Print>: pdf file throughput_crosssite.pdf has been created\n"
     ]
    }
   ],
   "source": [
    "#canvas.SaveAs('plots_for_DPS/'+\"throughput_crosssite.pdf\")\n",
    "canvas.SaveAs(\"throughput_crosssite.pdf\")"
   ]
  },
  {
   "cell_type": "code",
   "execution_count": null,
   "id": "f2c7ddd6",
   "metadata": {},
   "outputs": [],
   "source": []
  },
  {
   "cell_type": "code",
   "execution_count": null,
   "id": "754bad92",
   "metadata": {},
   "outputs": [],
   "source": []
  }
 ],
 "metadata": {
  "kernelspec": {
   "display_name": "Python 3 (ipykernel)",
   "language": "python",
   "name": "python3"
  },
  "language_info": {
   "codemirror_mode": {
    "name": "ipython",
    "version": 3
   },
   "file_extension": ".py",
   "mimetype": "text/x-python",
   "name": "python",
   "nbconvert_exporter": "python",
   "pygments_lexer": "ipython3",
   "version": "3.10.9"
  }
 },
 "nbformat": 4,
 "nbformat_minor": 5
}
