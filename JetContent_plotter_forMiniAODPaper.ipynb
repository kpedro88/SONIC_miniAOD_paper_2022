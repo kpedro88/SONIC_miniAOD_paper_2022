{
 "cells": [
  {
   "cell_type": "code",
   "execution_count": 1,
   "id": "e138a399",
   "metadata": {},
   "outputs": [],
   "source": [
    "import matplotlib.pyplot as plt"
   ]
  },
  {
   "cell_type": "code",
   "execution_count": 2,
   "id": "ac4a32d1",
   "metadata": {},
   "outputs": [],
   "source": [
    "import numpy as np"
   ]
  },
  {
   "cell_type": "code",
   "execution_count": 3,
   "id": "0f73b51c",
   "metadata": {},
   "outputs": [
    {
     "name": "stdout",
     "output_type": "stream",
     "text": [
      "Welcome to JupyROOT 6.26/06\n"
     ]
    }
   ],
   "source": [
    "import ROOT as rt\n",
    "\n",
    "def tdrGrid( gridOn):\n",
    "    tdrStyle.SetPadGridX(gridOn)\n",
    "    tdrStyle.SetPadGridY(gridOn)\n",
    "\n",
    "#fixOverlay: Redraws the axis\n",
    "def fixOverlay():\n",
    "    gPad.RedrawAxis()\n",
    "\n",
    "def setTDRStyle():\n",
    "    tdrStyle =  rt.TStyle(\"tdrStyle\",\"Style for P-TDR\")\n",
    "\n",
    "    #for the canvas:\n",
    "    tdrStyle.SetCanvasBorderMode(0)\n",
    "    tdrStyle.SetCanvasColor(rt.kWhite)\n",
    "    tdrStyle.SetCanvasDefH(600) #Height of canvas\n",
    "    tdrStyle.SetCanvasDefW(600) #Width of canvas\n",
    "    tdrStyle.SetCanvasDefX(0)   #POsition on screen\n",
    "    tdrStyle.SetCanvasDefY(0)\n",
    "    \n",
    "    tdrStyle.SetPadBorderMode(0)\n",
    "    #tdrStyle.SetPadBorderSize(Width_t size = 1)\n",
    "    tdrStyle.SetPadColor(rt.kWhite)\n",
    "    tdrStyle.SetPadGridX(False)\n",
    "    tdrStyle.SetPadGridY(False)\n",
    "    tdrStyle.SetGridColor(0)\n",
    "    tdrStyle.SetGridStyle(3)\n",
    "    tdrStyle.SetGridWidth(1)\n",
    "    \n",
    "    #For the frame:\n",
    "    tdrStyle.SetFrameBorderMode(0)\n",
    "    tdrStyle.SetFrameBorderSize(1)\n",
    "    tdrStyle.SetFrameFillColor(0)\n",
    "    tdrStyle.SetFrameFillStyle(0)\n",
    "    tdrStyle.SetFrameLineColor(1)\n",
    "    tdrStyle.SetFrameLineStyle(1)\n",
    "    tdrStyle.SetFrameLineWidth(1)\n",
    "  \n",
    "    #For the histo:\n",
    "    #tdrStyle.SetHistFillColor(1)\n",
    "    #tdrStyle.SetHistFillStyle(0)\n",
    "    tdrStyle.SetHistLineColor(1)\n",
    "    tdrStyle.SetHistLineStyle(0)\n",
    "    tdrStyle.SetHistLineWidth(1)\n",
    "    #tdrStyle.SetLegoInnerR(Float_t rad = 0.5)\n",
    "    #tdrStyle.SetNumberContours(Int_t number = 20)\n",
    "    \n",
    "    tdrStyle.SetEndErrorSize(2)\n",
    "    #tdrStyle.SetErrorMarker(20)\n",
    "    #tdrStyle.SetErrorX(0.)\n",
    "    \n",
    "    tdrStyle.SetMarkerStyle(20)\n",
    "    \n",
    "    #For the fit/function:\n",
    "    tdrStyle.SetOptFit(1)\n",
    "    tdrStyle.SetFitFormat(\"5.4g\")\n",
    "    tdrStyle.SetFuncColor(2)\n",
    "    tdrStyle.SetFuncStyle(1)\n",
    "    tdrStyle.SetFuncWidth(1)\n",
    "    \n",
    "    #For the date:\n",
    "    tdrStyle.SetOptDate(0)\n",
    "    # tdrStyle.SetDateX(Float_t x = 0.01)\n",
    "    # tdrStyle.SetDateY(Float_t y = 0.01)\n",
    "    \n",
    "    # For the statistics box:\n",
    "    tdrStyle.SetOptFile(0)\n",
    "    tdrStyle.SetOptStat(0) # To display the mean and RMS:   SetOptStat(\"mr\")\n",
    "    tdrStyle.SetStatColor(rt.kWhite)\n",
    "    tdrStyle.SetStatFont(42)\n",
    "    tdrStyle.SetStatFontSize(0.025)\n",
    "    tdrStyle.SetStatTextColor(1)\n",
    "    tdrStyle.SetStatFormat(\"6.4g\")\n",
    "    tdrStyle.SetStatBorderSize(1)\n",
    "    tdrStyle.SetStatH(0.1)\n",
    "    tdrStyle.SetStatW(0.15)\n",
    "    # tdrStyle.SetStatStyle(Style_t style = 1001)\n",
    "    # tdrStyle.SetStatX(Float_t x = 0)\n",
    "    # tdrStyle.SetStatY(Float_t y = 0)\n",
    "\n",
    "    # Margins:\n",
    "    tdrStyle.SetPadTopMargin(0.05)\n",
    "    tdrStyle.SetPadBottomMargin(0.13)\n",
    "    tdrStyle.SetPadLeftMargin(0.16)\n",
    "    tdrStyle.SetPadRightMargin(0.02)\n",
    "    \n",
    "    # For the Global title:\n",
    "\n",
    "    tdrStyle.SetOptTitle(0)\n",
    "    tdrStyle.SetTitleFont(42)\n",
    "    tdrStyle.SetTitleColor(1)\n",
    "    tdrStyle.SetTitleTextColor(1)\n",
    "    tdrStyle.SetTitleFillColor(10)\n",
    "    tdrStyle.SetTitleFontSize(0.05)\n",
    "    # tdrStyle.SetTitleH(0) # Set the height of the title box\n",
    "    # tdrStyle.SetTitleW(0) # Set the width of the title box\n",
    "    # tdrStyle.SetTitleX(0) # Set the position of the title box\n",
    "    # tdrStyle.SetTitleY(0.985) # Set the position of the title box\n",
    "    # tdrStyle.SetTitleStyle(Style_t style = 1001)\n",
    "    # tdrStyle.SetTitleBorderSize(2)\n",
    "\n",
    "    # For the axis titles:\n",
    "\n",
    "    tdrStyle.SetTitleColor(1, \"XYZ\")\n",
    "    tdrStyle.SetTitleFont(42, \"XYZ\")\n",
    "    tdrStyle.SetTitleSize(0.06, \"XYZ\")\n",
    "    # tdrStyle.SetTitleXSize(Float_t size = 0.02) # Another way to set the size?\n",
    "    # tdrStyle.SetTitleYSize(Float_t size = 0.02)\n",
    "    tdrStyle.SetTitleXOffset(0.9)\n",
    "    tdrStyle.SetTitleYOffset(1.25)\n",
    "    # tdrStyle.SetTitleOffset(1.1, \"Y\") # Another way to set the Offset\n",
    "\n",
    "    # For the axis labels:\n",
    "\n",
    "    tdrStyle.SetLabelColor(1, \"XYZ\")\n",
    "    tdrStyle.SetLabelFont(42, \"XYZ\")\n",
    "    tdrStyle.SetLabelOffset(0.007, \"XYZ\")\n",
    "    tdrStyle.SetLabelSize(0.05, \"XYZ\")\n",
    "\n",
    "    # For the axis:\n",
    "\n",
    "    tdrStyle.SetAxisColor(1, \"XYZ\")\n",
    "    tdrStyle.SetStripDecimals(True)\n",
    "    tdrStyle.SetTickLength(0.03, \"XYZ\")\n",
    "    tdrStyle.SetNdivisions(510, \"XYZ\")\n",
    "    tdrStyle.SetPadTickX(1)  # To get tick marks on the opposite side of the frame\n",
    "    tdrStyle.SetPadTickY(1)\n",
    "\n",
    "    # Change for log plots:\n",
    "    tdrStyle.SetOptLogx(0)\n",
    "    tdrStyle.SetOptLogy(0)\n",
    "    tdrStyle.SetOptLogz(0)\n",
    "    \n",
    "    # Postscript options:\n",
    "    tdrStyle.SetPaperSize(20.,20.)\n",
    "    # tdrStyle.SetLineScalePS(Float_t scale = 3)\n",
    "    # tdrStyle.SetLineStyleString(Int_t i, const char* text)\n",
    "    # tdrStyle.SetHeaderPS(const char* header)\n",
    "    # tdrStyle.SetTitlePS(const char* pstitle)\n",
    "\n",
    "    # tdrStyle.SetBarOffset(Float_t baroff = 0.5)\n",
    "    # tdrStyle.SetBarWidth(Float_t barwidth = 0.5)\n",
    "    # tdrStyle.SetPaintTextFormat(const char* format = \"g\")\n",
    "    # tdrStyle.SetPalette(Int_t ncolors = 0, Int_t* colors = 0)\n",
    "    # tdrStyle.SetTimeOffset(Double_t toffset)\n",
    "    # tdrStyle.SetHistMinimumZero(kTRUE)\n",
    "\n",
    "    tdrStyle.SetHatchesLineWidth(5)\n",
    "    tdrStyle.SetHatchesSpacing(0.05)\n",
    "\n",
    "    tdrStyle.cd()"
   ]
  },
  {
   "cell_type": "code",
   "execution_count": 4,
   "id": "45cd2d7a",
   "metadata": {},
   "outputs": [],
   "source": [
    "import CMS_lumi\n",
    "from array import array\n",
    "\n",
    "#set the tdr style\n",
    "setTDRStyle()"
   ]
  },
  {
   "cell_type": "code",
   "execution_count": 5,
   "id": "cbdc9b29",
   "metadata": {},
   "outputs": [],
   "source": [
    "#change the CMS_lumi variables (see CMS_lumi.py)\n",
    "CMS_lumi.lumi_7TeV = \"4.8 fb^{-1}\"\n",
    "CMS_lumi.lumi_8TeV = \"18.3 fb^{-1}\"\n",
    "CMS_lumi.writeExtraText = 1\n",
    "CMS_lumi.extraText = \"Simulation Preliminary\"\n",
    "CMS_lumi.extraText = \"Simulation\"\n",
    "CMS_lumi.lumi_sqrtS = \"(13 TeV)\" # used with iPeriod = 0, e.g. for simulation-only plots (default is an empty string)\n",
    "#CMS_lumi.lumi_sqrtS = \"\"\n",
    "\n",
    "iPos = 11\n",
    "iPos = 0\n",
    "if( iPos==0 ): CMS_lumi.relPosX = 0.12"
   ]
  },
  {
   "cell_type": "code",
   "execution_count": 6,
   "id": "c9c124e5",
   "metadata": {},
   "outputs": [],
   "source": [
    "njet = rt.TH1F(\"njet\", \"njet\", 30, 0, 60)\n",
    "ptjet = rt.TH1F(\"ptjet\", \"ptjet\", 40, 15, 415)\n",
    "pfCandjet = rt.TH1F(\"pfCandjet\", \"pfCandjet\", 51, 0, 51)\n",
    "njetfat = rt.TH1F(\"njetfat\", \"njetfat\", 6, 0, 6)\n",
    "ptjetfat = rt.TH1F(\"ptjetfat\", \"ptjetfat\", 40, 150, 950)\n",
    "pfCandjetfat = rt.TH1F(\"pfCandjetfat\", \"pfCandjetfat\", 101, 0, 101)"
   ]
  },
  {
   "cell_type": "code",
   "execution_count": 7,
   "id": "c1d9fcca",
   "metadata": {},
   "outputs": [],
   "source": [
    "jetFile = rt.TFile.Open('jet_7BED.root', \"READ\")\n"
   ]
  },
  {
   "cell_type": "code",
   "execution_count": 8,
   "id": "58f94c7a",
   "metadata": {},
   "outputs": [],
   "source": [
    "events = jetFile.Get(\"Events\")\n",
    "N = events.GetEntries()"
   ]
  },
  {
   "cell_type": "code",
   "execution_count": 9,
   "id": "bc3484cb",
   "metadata": {},
   "outputs": [],
   "source": [
    "for i in range(N):\n",
    "    events.GetEntry(i)\n",
    "    njet.Fill(events.njet)\n",
    "    njetfat.Fill(events.njetAK8)\n",
    "    for j in range(events.njet):\n",
    "        ptjet.Fill(events.jet_pt[j])\n",
    "        if(events.jet_nPFcand[j]>=50):\n",
    "            pfCandjet.Fill(50.5)\n",
    "        else:\n",
    "            pfCandjet.Fill(events.jet_nPFcand[j])\n",
    "    for j in range(events.njetAK8):\n",
    "        ptjetfat.Fill(events.fatjet_pt[j])\n",
    "        if(events.fatjet_nPFcand[j]>=100):\n",
    "            pfCandjetfat.Fill(100.5)\n",
    "        else:\n",
    "            pfCandjetfat.Fill(events.fatjet_nPFcand[j])"
   ]
  },
  {
   "cell_type": "code",
   "execution_count": 10,
   "id": "a5a60354",
   "metadata": {},
   "outputs": [],
   "source": [
    "njet2 = (1./njet.Integral())*njet\n",
    "ptjet2 = (1./ptjet.Integral())*ptjet\n",
    "pfCandjet2 = (1./pfCandjet.Integral())*pfCandjet\n",
    "njetfat2 = (1./njetfat.Integral())*njetfat\n",
    "ptjetfat2 = (1./ptjetfat.Integral())*ptjetfat\n",
    "pfCandjetfat2 = (1./pfCandjetfat.Integral())*pfCandjetfat"
   ]
  },
  {
   "cell_type": "code",
   "execution_count": 11,
   "id": "3f670729",
   "metadata": {},
   "outputs": [
    {
     "name": "stdout",
     "output_type": "stream",
     "text": [
      "(13 TeV)\n",
      "(13 TeV)\n",
      "(13 TeV)\n",
      "(13 TeV)\n",
      "(13 TeV)\n",
      "(13 TeV)\n"
     ]
    }
   ],
   "source": [
    "H_ref = 500; \n",
    "W_ref = 700; \n",
    "W = W_ref\n",
    "H  = H_ref\n",
    "\n",
    "# \n",
    "# Simple example of macro: plot with CMS name and lumi text\n",
    "#  (this script does not pretend to work in all configurations)\n",
    "# iPeriod = 1*(0/1 7 TeV) + 2*(0/1 8 TeV)  + 4*(0/1 13 TeV) \n",
    "# For instance: \n",
    "#               iPeriod = 3 means: 7 TeV + 8 TeV\n",
    "#               iPeriod = 7 means: 7 TeV + 8 TeV + 13 TeV \n",
    "#               iPeriod = 0 means: free form (uses lumi_sqrtS)\n",
    "# Initiated by: Gautier Hamel de Monchenault (Saclay)\n",
    "# Translated in Python by: Joshua Hardenbrook (Princeton)\n",
    "# Updated by:   Dinko Ferencek (Rutgers)\n",
    "#\n",
    "\n",
    "iPeriod = 3\n",
    "\n",
    "# references for T, B, L, R\n",
    "T = 0.08*H_ref\n",
    "B = 0.15*H_ref \n",
    "L = 0.16*W_ref\n",
    "R = 0.04*W_ref\n",
    "\n",
    "canvases = []\n",
    "plots = [njet2, ptjet2, pfCandjet2, njetfat2, ptjetfat2, pfCandjetfat2]\n",
    "xaxisnames = ['Number of AK4 Jets', 'AK4 Jet p_{T} [GeV]', 'Number of Particles in AK4 Jet', 'Number of AK8 Jets', 'AK8 Jet p_{T} [GeV]', 'Number of Particles in AK8 Jet']\n",
    "setlog = [0, 1, 1, 0, 1, 1]\n",
    "textxs = [40,275,34,3.7,650,65]\n",
    "textys = [0.12,0.1,0.1,0.55,0.1,0.1]\n",
    "\n",
    "for c in range(6):\n",
    "    canvases.append(rt.TCanvas(\"c\"+str(c),\"c\"+str(c),50,50,W,H))\n",
    "    canvases[-1].SetFillColor(0)\n",
    "    canvases[-1].SetBorderMode(0)\n",
    "    canvases[-1].SetFrameFillStyle(0)\n",
    "    canvases[-1].SetFrameBorderMode(0)\n",
    "    canvases[-1].SetLeftMargin( L/W )\n",
    "    canvases[-1].SetRightMargin( R/W )\n",
    "    canvases[-1].SetTopMargin( T/H )\n",
    "    canvases[-1].SetBottomMargin( B/H )\n",
    "    canvases[-1].SetTickx(1)\n",
    "    canvases[-1].SetTicky(1)\n",
    "    plots[c].Draw()\n",
    "    plots[c].SetLineColor(4)\n",
    "    plots[c].SetMarkerColor(4)\n",
    "    plots[c].GetXaxis().SetTitle( xaxisnames[c] )\n",
    "    plots[c].GetYaxis().SetTitle( 'Fraction of Events' )\n",
    "    if(setlog[c]):\n",
    "        canvases[-1].SetLogy()\n",
    "    CMS_lumi.CMS_lumi( canvases[-1], 0, iPos )\n",
    "    text = rt.TLatex(textxs[c],textys[c],\"#splitline{Simulated Run 2}{t#bar{t} events}\")\n",
    "    text.DrawClone()\n",
    "        "
   ]
  },
  {
   "cell_type": "code",
   "execution_count": 12,
   "id": "c53e598b",
   "metadata": {},
   "outputs": [],
   "source": [
    "#njet.Draw()\n",
    "#njet.SetLineColor(4)\n",
    "#njet.GetXaxis().SetTitle( 'Number of AK4 Jets' )\n",
    "#njet.GetYaxis().SetTitle( 'Number of Events' )"
   ]
  },
  {
   "cell_type": "code",
   "execution_count": 13,
   "id": "4a395547",
   "metadata": {},
   "outputs": [],
   "source": [
    "#CMS_lumi.CMS_lumi( canvas, 0, iPos )"
   ]
  },
  {
   "cell_type": "code",
   "execution_count": 14,
   "id": "f08e64b5",
   "metadata": {},
   "outputs": [
    {
     "data": {
      "image/png": "[encoded data removed]",
      "text/plain": [
       "<IPython.core.display.Image object>"
      ]
     },
     "metadata": {},
     "output_type": "display_data"
    }
   ],
   "source": [
    "canvases[4].Draw()"
   ]
  },
  {
   "cell_type": "code",
   "execution_count": 15,
   "id": "b432c8e9",
   "metadata": {},
   "outputs": [
    {
     "name": "stderr",
     "output_type": "stream",
     "text": [
      "Info in <TCanvas::Print>: pdf file number_of_ak4jets.pdf has been created\n",
      "Info in <TCanvas::Print>: pdf file pt_of_ak4jets.pdf has been created\n",
      "Info in <TCanvas::Print>: pdf file pfcand_of_ak4jets.pdf has been created\n",
      "Info in <TCanvas::Print>: pdf file number_of_ak8jets.pdf has been created\n",
      "Info in <TCanvas::Print>: pdf file pt_of_ak8jets.pdf has been created\n",
      "Info in <TCanvas::Print>: pdf file pfcand_of_ak8jets.pdf has been created\n"
     ]
    }
   ],
   "source": [
    "#folder = 'plots_for_DPS/'\n",
    "folder = ''\n",
    "canvases[0].SaveAs(folder+'number_of_ak4jets.pdf')\n",
    "canvases[1].SaveAs(folder+'pt_of_ak4jets.pdf')\n",
    "canvases[2].SaveAs(folder+'pfcand_of_ak4jets.pdf')\n",
    "canvases[3].SaveAs(folder+'number_of_ak8jets.pdf')\n",
    "canvases[4].SaveAs(folder+'pt_of_ak8jets.pdf')\n",
    "canvases[5].SaveAs(folder+'pfcand_of_ak8jets.pdf')"
   ]
  },
  {
   "cell_type": "code",
   "execution_count": null,
   "id": "c5ba8cc4",
   "metadata": {},
   "outputs": [],
   "source": []
  }
 ],
 "metadata": {
  "kernelspec": {
   "display_name": "Python 3 (ipykernel)",
   "language": "python",
   "name": "python3"
  },
  "language_info": {
   "codemirror_mode": {
    "name": "ipython",
    "version": 3
   },
   "file_extension": ".py",
   "mimetype": "text/x-python",
   "name": "python",
   "nbconvert_exporter": "python",
   "pygments_lexer": "ipython3",
   "version": "3.10.9"
  }
 },
 "nbformat": 4,
 "nbformat_minor": 5
}
