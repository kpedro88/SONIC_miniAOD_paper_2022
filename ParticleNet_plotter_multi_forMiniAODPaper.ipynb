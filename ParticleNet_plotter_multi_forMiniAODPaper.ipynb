{
 "cells": [
  {
   "cell_type": "code",
   "execution_count": 1,
   "id": "c8efc299",
   "metadata": {},
   "outputs": [],
   "source": [
    "import matplotlib.pyplot as plt"
   ]
  },
  {
   "cell_type": "code",
   "execution_count": 2,
   "id": "312df64a",
   "metadata": {},
   "outputs": [],
   "source": [
    "import numpy as np"
   ]
  },
  {
   "cell_type": "code",
   "execution_count": 3,
   "id": "cb4d8d9a",
   "metadata": {},
   "outputs": [],
   "source": [
    "from scipy import stats"
   ]
  },
  {
   "cell_type": "code",
   "execution_count": 4,
   "id": "21d82b98",
   "metadata": {},
   "outputs": [
    {
     "name": "stdout",
     "output_type": "stream",
     "text": [
      "Welcome to JupyROOT 6.24/00\n"
     ]
    }
   ],
   "source": [
    "import ROOT\n",
    "from ROOT import gROOT\n",
    "\n",
    "## Set TDR styles\n",
    "#gROOT.LoadMacro(\"tdrstyle.C\")\n",
    "##gROOT.ProcessLine(\"setTDRStyle();\")\n",
    "\n",
    "## Add CMS text\n",
    "#gROOT.LoadMacro(\"CMS_lumi.C\")\n",
    "##gROOT.ProcessLine(\"CMS_lumi(c1);\")"
   ]
  },
  {
   "cell_type": "code",
   "execution_count": 5,
   "id": "ba35e79f",
   "metadata": {},
   "outputs": [],
   "source": [
    "import CMS_lumi, tdrstyle\n",
    "from array import array\n",
    "\n",
    "#set the tdr style\n",
    "tdrstyle.setTDRStyle()"
   ]
  },
  {
   "cell_type": "code",
   "execution_count": 6,
   "id": "6f80334a",
   "metadata": {},
   "outputs": [],
   "source": [
    "#change the CMS_lumi variables (see CMS_lumi.py)\n",
    "CMS_lumi.lumi_7TeV = \"4.8 fb^{-1}\"\n",
    "CMS_lumi.lumi_8TeV = \"18.3 fb^{-1}\"\n",
    "CMS_lumi.writeExtraText = 1\n",
    "CMS_lumi.extraText = \"Simulation\"\n",
    "#CMS_lumi.lumi_sqrtS = \"13 TeV\" # used with iPeriod = 0, e.g. for simulation-only plots (default is an empty string)\n",
    "CMS_lumi.lumi_sqrtS = \"\"\n",
    "\n",
    "iPos = 11\n",
    "iPos = 0\n",
    "if( iPos==0 ): CMS_lumi.relPosX = 0.12"
   ]
  },
  {
   "cell_type": "code",
   "execution_count": 7,
   "id": "4dd31a75",
   "metadata": {},
   "outputs": [],
   "source": [
    "H_ref = 500; \n",
    "W_ref = 700; \n",
    "W = W_ref\n",
    "H  = H_ref\n",
    "\n",
    "# \n",
    "# Simple example of macro: plot with CMS name and lumi text\n",
    "#  (this script does not pretend to work in all configurations)\n",
    "# iPeriod = 1*(0/1 7 TeV) + 2*(0/1 8 TeV)  + 4*(0/1 13 TeV) \n",
    "# For instance: \n",
    "#               iPeriod = 3 means: 7 TeV + 8 TeV\n",
    "#               iPeriod = 7 means: 7 TeV + 8 TeV + 13 TeV \n",
    "#               iPeriod = 0 means: free form (uses lumi_sqrtS)\n",
    "# Initiated by: Gautier Hamel de Monchenault (Saclay)\n",
    "# Translated in Python by: Joshua Hardenbrook (Princeton)\n",
    "# Updated by:   Dinko Ferencek (Rutgers)\n",
    "#\n",
    "\n",
    "iPeriod = 3\n",
    "\n",
    "# references for T, B, L, R\n",
    "T = 0.08*H_ref\n",
    "B = 0.15*H_ref \n",
    "L = 0.16*W_ref\n",
    "R = 0.04*W_ref\n",
    "\n",
    "canvas = ROOT.TCanvas(\"c2\",\"c2\",50,50,W,H)\n",
    "canvas.SetFillColor(0)\n",
    "canvas.SetBorderMode(0)\n",
    "canvas.SetFrameFillStyle(0)\n",
    "canvas.SetFrameBorderMode(0)\n",
    "canvas.SetLeftMargin( L/W )\n",
    "canvas.SetRightMargin( R/W )\n",
    "canvas.SetTopMargin( T/H )\n",
    "canvas.SetBottomMargin( B/H )\n",
    "canvas.SetTickx(1)\n",
    "canvas.SetTicky(1)"
   ]
  },
  {
   "cell_type": "code",
   "execution_count": 8,
   "id": "445af2ac",
   "metadata": {},
   "outputs": [],
   "source": [
    "def TimeAnaSONIC(filename, timesSONIC):\n",
    "    f = open(filename, 'r')\n",
    "    Lines = f.readlines()\n",
    "    t = []\n",
    "    nb = 0\n",
    "    for line in Lines:\n",
    "        try:\n",
    "            t.append(float(line))\n",
    "        except:\n",
    "            if('Traceback' in line):\n",
    "                nb+=1\n",
    "    timesSONIC.append(t)"
   ]
  },
  {
   "cell_type": "code",
   "execution_count": 25,
   "id": "ffa1956b",
   "metadata": {},
   "outputs": [],
   "source": [
    "timesSONIC = []\n",
    "model = []\n",
    "sonicFileNumbers = []\n",
    "nfilesSONIC = []\n",
    "\n",
    "model.append('splitServer_JustAK4_noRagged_Nov9')\n",
    "sonicFileNumbers.append(['_60_1gpu_PT', '_100_1gpu_PT', '_120_1gpu_PT', '_148_1gpu_PT', '_180_1gpu_PT'])\n",
    "\n",
    "model.append('splitServer_JustDM_Nov4')\n",
    "sonicFileNumbers.append(['_400_1gpu_noCompress', '_452_1gpu_noCompress', '_500_1gpu_noCompress', '_552_1gpu_noCompress', '_572_1gpu_noCompress', '_600_1gpu_noCompress'])\n",
    "\n",
    "model.append('splitServer_JustDT_TRT')\n",
    "sonicFileNumbers.append([67252, 66837, 67117, 67049]) #just TRT\n",
    "\n",
    "model.append('splitServer_JustAK8_noRagged_Nov9')\n",
    "sonicFileNumbers.append(['_142_1gpu_PT', '_180_1gpu_PT', '_208_1gpu_PT', '_240_1gpu_PT'])#, '_252_1gpu_PT'])\n",
    "\n",
    "for m in range(len(model)):\n",
    "    nfilesSONIC.append(len(sonicFileNumbers[m]))\n",
    "    timesSONIC.append([])"
   ]
  },
  {
   "cell_type": "code",
   "execution_count": 26,
   "id": "c6369300",
   "metadata": {},
   "outputs": [],
   "source": [
    "for m in range(len(model)):\n",
    "    for sf in sonicFileNumbers[m]:\n",
    "        TimeAnaSONIC('slurm_'+model[m]+'/Synchro'+str(sf)+'.txt', timesSONIC[m])"
   ]
  },
  {
   "cell_type": "code",
   "execution_count": 27,
   "id": "69a53c31",
   "metadata": {},
   "outputs": [],
   "source": [
    "sortedJobs = []\n",
    "for m in range(len(model)):\n",
    "    nJobs = []\n",
    "    for i in range(nfilesSONIC[m]):\n",
    "        nJobs.append(len(timesSONIC[m][i]))\n",
    "    sortedJobs.append(np.argsort(nJobs))\n"
   ]
  },
  {
   "cell_type": "code",
   "execution_count": 28,
   "id": "d3ae5188",
   "metadata": {},
   "outputs": [],
   "source": [
    "allns = []\n",
    "allmeans = []\n",
    "allstds = []\n",
    "allstdsx = []\n",
    "alllocs = []\n",
    "\n",
    "for m in range(len(model)):\n",
    "    n = nfilesSONIC[m]\n",
    "    means = array('d')\n",
    "    stds = array( 'd' )\n",
    "    stdsx = array( 'd' )\n",
    "    locs = array( 'd' )\n",
    " \n",
    "    for f in range(nfilesSONIC[m]):\n",
    "        means.append(np.median(timesSONIC[m][f]))\n",
    "        stds.append(stats.sem(timesSONIC[m][f]))\n",
    "        stdsx.append(0.)\n",
    "        if(len(timesSONIC[m][f]) in locs):\n",
    "            locs.append((len(timesSONIC[m][f])+.1))\n",
    "        else:\n",
    "            locs.append(len(timesSONIC[m][f]))\n",
    "            \n",
    "    allns.append(n)\n",
    "    allmeans.append(means)\n",
    "    allstds.append(stds)\n",
    "    allstdsx.append(stdsx)\n",
    "    alllocs.append(locs)"
   ]
  },
  {
   "cell_type": "code",
   "execution_count": 29,
   "id": "6af051d4",
   "metadata": {},
   "outputs": [],
   "source": [
    "graphs = []\n",
    "colors = [1,4,2,3]\n",
    "styles = [20, 21, 22, 23]\n",
    "\n",
    "for m in range(len(model)):\n",
    "    gr = ROOT.TGraphErrors( allns[m], alllocs[m], allmeans[m], allstdsx[m], allstds[m] )\n",
    "    graphs.append(gr)\n",
    "for m in range(len(model)):\n",
    "    graphs[m].SetLineColor( colors[m] )\n",
    "    graphs[m].SetLineWidth( 2 )\n",
    "    graphs[m].SetMarkerColor( colors[m] )\n",
    "    graphs[m].SetMarkerStyle( styles[m] )\n",
    "    if(m==0):\n",
    "        graphs[m].SetTitle( 'a simple graph' )\n",
    "        graphs[m].GetXaxis().SetTitle( 'Number of synchronized 4-threaded jobs' )\n",
    "        graphs[m].GetXaxis().SetTitleFont(42)\n",
    "        graphs[m].GetXaxis().SetTitleSize(0.06)\n",
    "        graphs[m].GetXaxis().SetLimits(40, 600)\n",
    "        graphs[m].GetYaxis().SetTitle( 'Throughput [ev/s]' )\n",
    "        graphs[m].GetYaxis().SetTitleFont(42)\n",
    "        graphs[m].GetYaxis().SetTitleSize(0.06)\n",
    "        graphs[m].GetYaxis().SetRangeUser(3.5, 4.15)\n",
    "        graphs[m].Draw( 'ALP, same' )\n",
    "    else:\n",
    "        graphs[m].Draw('LP,same')"
   ]
  },
  {
   "cell_type": "code",
   "execution_count": 30,
   "id": "8e71c6c4",
   "metadata": {},
   "outputs": [],
   "source": [
    "testLine = ROOT.TLine(0, 3.88, 600, 3.88)\n",
    "testLine.SetLineStyle(2)\n",
    "testLine.SetLineWidth(2)\n",
    "testLine.Draw('same')\n",
    "\n",
    "xlabel = ROOT.TText();\n",
    "xlabel.SetNDC();\n",
    "xlabel.SetTextFont(1);\n",
    "xlabel.SetTextColor(1);\n",
    "xlabel.SetTextSize(0.03);\n",
    "xlabel.SetTextAlign(22);\n",
    "xlabel.SetTextAngle(0);\n",
    "xlabel.DrawText(0.4, 0.22, \"Direct average throughput = 3.88 ev/s\");\n",
    "#xlabel.Draw('same')"
   ]
  },
  {
   "cell_type": "code",
   "execution_count": 31,
   "id": "3a8783a2",
   "metadata": {},
   "outputs": [],
   "source": [
    "legend = ROOT.TLegend(0.35,0.8,0.95,0.9);\n",
    "#legend.SetHeader(\"The Legend Title\",\"C\"); // option \"C\" allows to center the header\n",
    "legend.AddEntry(graphs[0],\"PyTorch ParticleNet for AK4 jets\",\"pl\");\n",
    "legend.AddEntry(graphs[1],\"DeepMET\",\"pl\");\n",
    "legend.AddEntry(graphs[2],\"DeepTau with TRT\",\"pl\");\n",
    "legend.AddEntry(graphs[3],\"PyTorch ParticleNet for AK8 jets (3 models on 1 GPU)\",\"pl\");\n",
    "#gStyle.SetLegendBorderSize(1);\n",
    "#gStyle.SetLegendFillColor(0);\n",
    "#gStyle.SetLegendFont(42);\n",
    "#gStyle.SetLegendTextSize(0.);\n",
    "legend.Draw('same');"
   ]
  },
  {
   "cell_type": "code",
   "execution_count": 32,
   "id": "0ee89214",
   "metadata": {},
   "outputs": [
    {
     "name": "stdout",
     "output_type": "stream",
     "text": [
      "\n"
     ]
    }
   ],
   "source": [
    "#CMS_lumi.CMS_lumi( canvas, iPeriod, iPos )\n",
    "CMS_lumi.CMS_lumi( canvas, 0, iPos )"
   ]
  },
  {
   "cell_type": "code",
   "execution_count": 33,
   "id": "f82446af",
   "metadata": {},
   "outputs": [
    {
     "data": {
      "image/png": "[encoded data removed]",
      "text/plain": [
       "<IPython.core.display.Image object>"
      ]
     },
     "metadata": {},
     "output_type": "display_data"
    }
   ],
   "source": [
    "canvas.SetLogx()\n",
    "canvas.Draw()"
   ]
  },
  {
   "cell_type": "code",
   "execution_count": 34,
   "id": "2018a067",
   "metadata": {},
   "outputs": [
    {
     "name": "stderr",
     "output_type": "stream",
     "text": [
      "Info in <TCanvas::Print>: pdf file PN_throughput_scan_PT.pdf has been created\n"
     ]
    }
   ],
   "source": [
    "canvas.SaveAs(\"PN_throughput_scan_PT.pdf\")"
   ]
  },
  {
   "cell_type": "code",
   "execution_count": null,
   "id": "78de61c5",
   "metadata": {},
   "outputs": [],
   "source": []
  },
  {
   "cell_type": "code",
   "execution_count": null,
   "id": "59200ae6",
   "metadata": {},
   "outputs": [],
   "source": []
  }
 ],
 "metadata": {
  "kernelspec": {
   "display_name": "Python 3",
   "language": "python",
   "name": "python3"
  },
  "language_info": {
   "codemirror_mode": {
    "name": "ipython",
    "version": 3
   },
   "file_extension": ".py",
   "mimetype": "text/x-python",
   "name": "python",
   "nbconvert_exporter": "python",
   "pygments_lexer": "ipython3",
   "version": "3.9.6"
  }
 },
 "nbformat": 4,
 "nbformat_minor": 5
}
