{
 "cells": [
  {
   "cell_type": "code",
   "execution_count": 2,
   "id": "bf9aece3",
   "metadata": {},
   "outputs": [
    {
     "name": "stdout",
     "output_type": "stream",
     "text": [
      "Welcome to JupyROOT 6.24/00\n"
     ]
    }
   ],
   "source": [
    "import numpy as np\n",
    "import pandas as pd\n",
    "from collections import OrderedDict\n",
    "import ROOT\n",
    "from ROOT import gROOT\n",
    "import math"
   ]
  },
  {
   "cell_type": "code",
   "execution_count": 3,
   "id": "ba35e79f",
   "metadata": {},
   "outputs": [],
   "source": [
    "import CMS_lumi, tdrstyle\n",
    "from array import array\n",
    "\n",
    "#set the tdr style\n",
    "tdrstyle.setTDRStyle()"
   ]
  },
  {
   "cell_type": "code",
   "execution_count": 4,
   "id": "6f80334a",
   "metadata": {},
   "outputs": [],
   "source": [
    "#change the CMS_lumi variables (see CMS_lumi.py)\n",
    "CMS_lumi.lumi_7TeV = \"4.8 fb^{-1}\"\n",
    "CMS_lumi.lumi_8TeV = \"18.3 fb^{-1}\"\n",
    "CMS_lumi.writeExtraText = 1\n",
    "CMS_lumi.extraText = \"Simulation Preliminary\"\n",
    "CMS_lumi.lumi_sqrtS = \"13 TeV\" # used with iPeriod = 0, e.g. for simulation-only plots (default is an empty string)\n",
    "#CMS_lumi.lumi_sqrtS = \"\"\n",
    "\n",
    "iPos = 11\n",
    "iPos = 0\n",
    "if( iPos==0 ): CMS_lumi.relPosX = 0.12"
   ]
  },
  {
   "cell_type": "code",
   "execution_count": 5,
   "id": "4dd31a75",
   "metadata": {},
   "outputs": [],
   "source": [
    "H_ref = 800; \n",
    "W_ref = 800; \n",
    "W = W_ref\n",
    "H  = H_ref\n",
    "\n",
    "# \n",
    "# Simple example of macro: plot with CMS name and lumi text\n",
    "#  (this script does not pretend to work in all configurations)\n",
    "# iPeriod = 1*(0/1 7 TeV) + 2*(0/1 8 TeV)  + 4*(0/1 13 TeV) \n",
    "# For instance: \n",
    "#               iPeriod = 3 means: 7 TeV + 8 TeV\n",
    "#               iPeriod = 7 means: 7 TeV + 8 TeV + 13 TeV \n",
    "#               iPeriod = 0 means: free form (uses lumi_sqrtS)\n",
    "# Initiated by: Gautier Hamel de Monchenault (Saclay)\n",
    "# Translated in Python by: Joshua Hardenbrook (Princeton)\n",
    "# Updated by:   Dinko Ferencek (Rutgers)\n",
    "#\n",
    "\n",
    "iPeriod = 3\n",
    "\n",
    "# references for T, B, L, R\n",
    "T = 0.08*H_ref\n",
    "B = 0.15*H_ref \n",
    "L = 0.16*W_ref\n",
    "R = 0.04*W_ref\n",
    "\n",
    "canvas = ROOT.TCanvas(\"c2\",\"c2\",50,50,W,H)\n",
    "canvas.SetFillColor(0)\n",
    "canvas.SetBorderMode(0)\n",
    "canvas.SetFrameFillStyle(0)\n",
    "canvas.SetFrameBorderMode(0)\n",
    "canvas.SetLeftMargin( L/W )\n",
    "canvas.SetRightMargin( R/W )\n",
    "canvas.SetTopMargin( T/H )\n",
    "canvas.SetBottomMargin( B/H )\n",
    "canvas.SetTickx(1)\n",
    "canvas.SetTicky(1)\n",
    "\n",
    "padsize2 = 0.332\n",
    "padsize1 = 0.667\n",
    "padsize3 = 0\n",
    "pad1 = ROOT.TPad(\"pad1\", \"pad1\", 0, padsize2, 1, 1)\n",
    "pad2 = ROOT.TPad(\"pad2\", \"pad1\", 0, 0, 1, padsize2)\n",
    "pad1.SetTopMargin(0.06/padsize1)\n",
    "pad1.SetBottomMargin(0.012/padsize1)\n",
    "pad1.SetLeftMargin(0.19 * (600.0)/W)\n",
    "pad2.SetTopMargin(0.010/padsize2)\n",
    "pad2.SetBottomMargin(0.13/padsize2)\n",
    "pad2.SetLeftMargin(0.19 * (600.0)/W)\n",
    "pad2.SetGridy(1)\n",
    "pad2.SetTicks(1,1)\n",
    "pad1.Draw()\n",
    "pad2.Draw()"
   ]
  },
  {
   "cell_type": "code",
   "execution_count": 6,
   "id": "d715889f",
   "metadata": {},
   "outputs": [],
   "source": [
    "xmin = 0.5\n",
    "xmax = 22.0\n",
    "ymin = 0.5\n",
    "ymax = 25.0\n",
    "yrmin = 0.89\n",
    "yrmax = 1.11\n",
    "ytitle = \"Throughput [evt/s]\"\n",
    "yrtitle = \"Ratio\"\n",
    "xtitle = \"nThreads per job\""
   ]
  },
  {
   "cell_type": "code",
   "execution_count": 7,
   "id": "a01a6568",
   "metadata": {},
   "outputs": [],
   "source": [
    "df = pd.read_csv('cputest/latency_plot_miniaod.log', header=None, delimiter=r\"\\s+\")"
   ]
  },
  {
   "cell_type": "code",
   "execution_count": 8,
   "id": "0be54b6a",
   "metadata": {},
   "outputs": [
    {
     "data": {
      "text/html": [
       "<div>\n",
       "<style scoped>\n",
       "    .dataframe tbody tr th:only-of-type {\n",
       "        vertical-align: middle;\n",
       "    }\n",
       "\n",
       "    .dataframe tbody tr th {\n",
       "        vertical-align: top;\n",
       "    }\n",
       "\n",
       "    .dataframe thead th {\n",
       "        text-align: right;\n",
       "    }\n",
       "</style>\n",
       "<table border=\"1\" class=\"dataframe\">\n",
       "  <thead>\n",
       "    <tr style=\"text-align: right;\">\n",
       "      <th></th>\n",
       "      <th>0</th>\n",
       "      <th>1</th>\n",
       "      <th>2</th>\n",
       "      <th>3</th>\n",
       "      <th>4</th>\n",
       "      <th>5</th>\n",
       "      <th>6</th>\n",
       "      <th>7</th>\n",
       "      <th>8</th>\n",
       "      <th>9</th>\n",
       "      <th>10</th>\n",
       "      <th>11</th>\n",
       "    </tr>\n",
       "  </thead>\n",
       "  <tbody>\n",
       "    <tr>\n",
       "      <th>0</th>\n",
       "      <td>Direct</td>\n",
       "      <td>2</td>\n",
       "      <td>2.05915</td>\n",
       "      <td>2.04879</td>\n",
       "      <td>2.07024</td>\n",
       "      <td>2.04044</td>\n",
       "      <td>2.09121</td>\n",
       "      <td>2.15651</td>\n",
       "      <td>2.08863</td>\n",
       "      <td>2.06970</td>\n",
       "      <td>2.16520</td>\n",
       "      <td>2.08431</td>\n",
       "    </tr>\n",
       "    <tr>\n",
       "      <th>1</th>\n",
       "      <td>Direct</td>\n",
       "      <td>4</td>\n",
       "      <td>4.39289</td>\n",
       "      <td>4.19899</td>\n",
       "      <td>4.28391</td>\n",
       "      <td>4.36265</td>\n",
       "      <td>4.35772</td>\n",
       "      <td>NaN</td>\n",
       "      <td>NaN</td>\n",
       "      <td>NaN</td>\n",
       "      <td>NaN</td>\n",
       "      <td>NaN</td>\n",
       "    </tr>\n",
       "    <tr>\n",
       "      <th>2</th>\n",
       "      <td>Direct</td>\n",
       "      <td>5</td>\n",
       "      <td>5.14133</td>\n",
       "      <td>5.10672</td>\n",
       "      <td>5.16654</td>\n",
       "      <td>5.11565</td>\n",
       "      <td>NaN</td>\n",
       "      <td>NaN</td>\n",
       "      <td>NaN</td>\n",
       "      <td>NaN</td>\n",
       "      <td>NaN</td>\n",
       "      <td>NaN</td>\n",
       "    </tr>\n",
       "    <tr>\n",
       "      <th>3</th>\n",
       "      <td>Direct</td>\n",
       "      <td>10</td>\n",
       "      <td>10.16460</td>\n",
       "      <td>10.07830</td>\n",
       "      <td>NaN</td>\n",
       "      <td>NaN</td>\n",
       "      <td>NaN</td>\n",
       "      <td>NaN</td>\n",
       "      <td>NaN</td>\n",
       "      <td>NaN</td>\n",
       "      <td>NaN</td>\n",
       "      <td>NaN</td>\n",
       "    </tr>\n",
       "    <tr>\n",
       "      <th>4</th>\n",
       "      <td>Direct</td>\n",
       "      <td>20</td>\n",
       "      <td>17.42180</td>\n",
       "      <td>NaN</td>\n",
       "      <td>NaN</td>\n",
       "      <td>NaN</td>\n",
       "      <td>NaN</td>\n",
       "      <td>NaN</td>\n",
       "      <td>NaN</td>\n",
       "      <td>NaN</td>\n",
       "      <td>NaN</td>\n",
       "      <td>NaN</td>\n",
       "    </tr>\n",
       "    <tr>\n",
       "      <th>5</th>\n",
       "      <td>SONIC</td>\n",
       "      <td>2</td>\n",
       "      <td>2.19462</td>\n",
       "      <td>2.16433</td>\n",
       "      <td>2.09935</td>\n",
       "      <td>2.06214</td>\n",
       "      <td>2.15827</td>\n",
       "      <td>2.08135</td>\n",
       "      <td>2.07239</td>\n",
       "      <td>2.04091</td>\n",
       "      <td>2.08112</td>\n",
       "      <td>2.08234</td>\n",
       "    </tr>\n",
       "    <tr>\n",
       "      <th>6</th>\n",
       "      <td>SONIC</td>\n",
       "      <td>4</td>\n",
       "      <td>4.22837</td>\n",
       "      <td>4.28420</td>\n",
       "      <td>4.24052</td>\n",
       "      <td>4.11495</td>\n",
       "      <td>4.37010</td>\n",
       "      <td>NaN</td>\n",
       "      <td>NaN</td>\n",
       "      <td>NaN</td>\n",
       "      <td>NaN</td>\n",
       "      <td>NaN</td>\n",
       "    </tr>\n",
       "    <tr>\n",
       "      <th>7</th>\n",
       "      <td>SONIC</td>\n",
       "      <td>5</td>\n",
       "      <td>5.30448</td>\n",
       "      <td>5.24871</td>\n",
       "      <td>5.19070</td>\n",
       "      <td>5.18922</td>\n",
       "      <td>NaN</td>\n",
       "      <td>NaN</td>\n",
       "      <td>NaN</td>\n",
       "      <td>NaN</td>\n",
       "      <td>NaN</td>\n",
       "      <td>NaN</td>\n",
       "    </tr>\n",
       "    <tr>\n",
       "      <th>8</th>\n",
       "      <td>SONIC</td>\n",
       "      <td>10</td>\n",
       "      <td>10.15340</td>\n",
       "      <td>9.82128</td>\n",
       "      <td>NaN</td>\n",
       "      <td>NaN</td>\n",
       "      <td>NaN</td>\n",
       "      <td>NaN</td>\n",
       "      <td>NaN</td>\n",
       "      <td>NaN</td>\n",
       "      <td>NaN</td>\n",
       "      <td>NaN</td>\n",
       "    </tr>\n",
       "    <tr>\n",
       "      <th>9</th>\n",
       "      <td>SONIC</td>\n",
       "      <td>20</td>\n",
       "      <td>17.30980</td>\n",
       "      <td>NaN</td>\n",
       "      <td>NaN</td>\n",
       "      <td>NaN</td>\n",
       "      <td>NaN</td>\n",
       "      <td>NaN</td>\n",
       "      <td>NaN</td>\n",
       "      <td>NaN</td>\n",
       "      <td>NaN</td>\n",
       "      <td>NaN</td>\n",
       "    </tr>\n",
       "  </tbody>\n",
       "</table>\n",
       "</div>"
      ],
      "text/plain": [
       "       0   1         2         3        4        5        6        7   \\\n",
       "0  Direct   2   2.05915   2.04879  2.07024  2.04044  2.09121  2.15651   \n",
       "1  Direct   4   4.39289   4.19899  4.28391  4.36265  4.35772      NaN   \n",
       "2  Direct   5   5.14133   5.10672  5.16654  5.11565      NaN      NaN   \n",
       "3  Direct  10  10.16460  10.07830      NaN      NaN      NaN      NaN   \n",
       "4  Direct  20  17.42180       NaN      NaN      NaN      NaN      NaN   \n",
       "5   SONIC   2   2.19462   2.16433  2.09935  2.06214  2.15827  2.08135   \n",
       "6   SONIC   4   4.22837   4.28420  4.24052  4.11495  4.37010      NaN   \n",
       "7   SONIC   5   5.30448   5.24871  5.19070  5.18922      NaN      NaN   \n",
       "8   SONIC  10  10.15340   9.82128      NaN      NaN      NaN      NaN   \n",
       "9   SONIC  20  17.30980       NaN      NaN      NaN      NaN      NaN   \n",
       "\n",
       "        8        9        10       11  \n",
       "0  2.08863  2.06970  2.16520  2.08431  \n",
       "1      NaN      NaN      NaN      NaN  \n",
       "2      NaN      NaN      NaN      NaN  \n",
       "3      NaN      NaN      NaN      NaN  \n",
       "4      NaN      NaN      NaN      NaN  \n",
       "5  2.07239  2.04091  2.08112  2.08234  \n",
       "6      NaN      NaN      NaN      NaN  \n",
       "7      NaN      NaN      NaN      NaN  \n",
       "8      NaN      NaN      NaN      NaN  \n",
       "9      NaN      NaN      NaN      NaN  "
      ]
     },
     "execution_count": 8,
     "metadata": {},
     "output_type": "execute_result"
    }
   ],
   "source": [
    "df"
   ]
  },
  {
   "cell_type": "code",
   "execution_count": 9,
   "id": "97901d62",
   "metadata": {},
   "outputs": [
    {
     "data": {
      "text/plain": [
       "0    0.042106\n",
       "1    0.078259\n",
       "2    0.026989\n",
       "3    0.061023\n",
       "4         NaN\n",
       "5    0.050613\n",
       "6    0.092685\n",
       "7    0.054960\n",
       "8    0.234844\n",
       "9         NaN\n",
       "dtype: float64"
      ]
     },
     "execution_count": 9,
     "metadata": {},
     "output_type": "execute_result"
    }
   ],
   "source": [
    "df.iloc[:, 2:].std(axis=1)"
   ]
  },
  {
   "cell_type": "code",
   "execution_count": 10,
   "id": "036392d3",
   "metadata": {},
   "outputs": [
    {
     "name": "stdout",
     "output_type": "stream",
     "text": [
      "OrderedDict([('Direct', array([[ 2.        ,  2.087418  ,  0.        ,  0.04210621],\n",
      "       [ 4.        ,  4.319232  ,  0.        ,  0.07825876],\n",
      "       [ 5.        ,  5.13256   ,  0.        ,  0.02698893],\n",
      "       [10.        , 10.12145   ,  0.        ,  0.06102331],\n",
      "       [20.        , 17.4218    ,  0.        ,  0.        ]],\n",
      "      dtype=float32)), ('SONIC', array([[ 2.        ,  2.103682  ,  0.        ,  0.05061292],\n",
      "       [ 4.        ,  4.247628  ,  0.        ,  0.09268461],\n",
      "       [ 5.        ,  5.2332773 ,  0.        ,  0.05496018],\n",
      "       [10.        ,  9.98734   ,  0.        ,  0.2348443 ],\n",
      "       [20.        , 17.3098    ,  0.        ,  0.        ]],\n",
      "      dtype=float32))])\n"
     ]
    }
   ],
   "source": [
    "results = OrderedDict()\n",
    "for index, row in df.iterrows():\n",
    "    if row[0] not in results:\n",
    "        results[row[0]] = []\n",
    "    results[row[0]].append([row[1], row[2:].mean(), 0., row[2:].std()])\n",
    "                            \n",
    "for key, val in results.items():\n",
    "    val = np.array(val, dtype=np.float32)\n",
    "    val = np.nan_to_num(val)\n",
    "    results[key] = val\n",
    "print(results)"
   ]
  },
  {
   "cell_type": "code",
   "execution_count": 11,
   "id": "8a1e1743",
   "metadata": {},
   "outputs": [
    {
     "data": {
      "text/plain": [
       "array('f', [2.0, 4.0, 5.0, 10.0, 20.0])"
      ]
     },
     "execution_count": 11,
     "metadata": {},
     "output_type": "execute_result"
    }
   ],
   "source": [
    "array('f', results['Direct'][:,0])"
   ]
  },
  {
   "cell_type": "code",
   "execution_count": 12,
   "id": "dc754b7d",
   "metadata": {},
   "outputs": [],
   "source": [
    "pad1.cd()\n",
    "pad1.SetGrid(0, 0)\n",
    "pad1.SetTicks(1,1)\n",
    "h1 = ROOT.TH1F(\"h1\", \"h1\", 80, xmin, xmax)\n",
    "h1.SetMinimum(ymin)\n",
    "h1.SetMaximum(ymax)\n",
    "#print \"xmin : %f xmax : %f\"%(xmin, xmax)\n",
    "h1.GetXaxis().SetNdivisions(6, 5, 0)\n",
    "h1.GetYaxis().SetNdivisions(6, 5, 0)\n",
    "h1.GetYaxis().SetTitle(ytitle)\n",
    "h1.GetYaxis().SetTitleSize(0.050/(padsize1+padsize3))\n",
    "h1.GetYaxis().SetLabelSize(0.045/(padsize1+padsize3))\n",
    "h1.GetXaxis().SetTitleSize(0.050/(padsize1+padsize3))\n",
    "h1.GetXaxis().SetLabelSize(0.045/(padsize1+padsize3))\n",
    "h1.GetYaxis().SetTitleOffset(1.75*(padsize1+padsize3)*(600.0/W))\n",
    "h1.GetXaxis().SetTitleOffset(1.1*(padsize1+padsize3))\n",
    "h1.Draw()"
   ]
  },
  {
   "cell_type": "code",
   "execution_count": 13,
   "id": "6af051d4",
   "metadata": {},
   "outputs": [
    {
     "name": "stdout",
     "output_type": "stream",
     "text": [
      "array('d', [2.0, 4.0, 5.0, 10.0, 20.0])\n",
      "array('d', [2.0874180793762207, 4.319231986999512, 5.132559776306152, 10.121450424194336, 17.42180061340332])\n",
      "array('d', [2.0, 4.0, 5.0, 10.0, 20.0])\n",
      "array('d', [2.103682041168213, 4.247628211975098, 5.233277320861816, 9.987339973449707, 17.309799194335938])\n",
      "drawing\n",
      "drawing\n"
     ]
    }
   ],
   "source": [
    "pad1.cd()\n",
    "graphs = []\n",
    "colors = [1,2,4,3]\n",
    "styles = [20, 21, 22, 23]\n",
    "\n",
    "for key, val in results.items():\n",
    "    # TGraphErrors only support array.array, not numpy arrays..???\n",
    "    xvals = array('d', val[:,0])\n",
    "    yvals = array('d', val[:,1])\n",
    "    xerrs = array('d', val[:,2])\n",
    "    yerrs = array('d', val[:,3])\n",
    "    gr = ROOT.TGraphErrors(5, xvals, yvals, xerrs, yerrs)\n",
    "    print(xvals)\n",
    "    print(yvals)\n",
    "    graphs.append(gr)\n",
    "\n",
    "for m in range(len(graphs)):\n",
    "    graphs[m].SetLineColor( colors[m] )\n",
    "    graphs[m].SetLineWidth( 2 )\n",
    "    graphs[m].SetMarkerColor( colors[m] )\n",
    "    graphs[m].SetMarkerStyle( styles[m] )\n",
    "    print(\"drawing\")\n",
    "    graphs[m].Draw('LEPsame')"
   ]
  },
  {
   "cell_type": "code",
   "execution_count": 14,
   "id": "0ee89214",
   "metadata": {},
   "outputs": [
    {
     "name": "stdout",
     "output_type": "stream",
     "text": [
      "13 TeV\n"
     ]
    }
   ],
   "source": [
    "CMS_lumi.CMS_lumi( pad1, 0, iPos )\n",
    "legend = ROOT.TLegend(0.20,0.6,0.55,0.9);\n",
    "#legend.SetHeader(\"The Legend Title\",\"C\"); // option \"C\" allows to center the header\n",
    "legend.AddEntry(graphs[0],'\"Direct-inference\" Jobs',\"epl\");\n",
    "legend.AddEntry(graphs[1],'SONIC Jobs on Local CPUs',\"epl\");\n",
    "#gStyle.SetLegendBorderSize(1);\n",
    "#gStyle.SetLegendFillColor(0);\n",
    "legend.SetTextFont(42);\n",
    "legend.SetTextSize(0.035);\n",
    "legend.Draw('same');"
   ]
  },
  {
   "cell_type": "code",
   "execution_count": 15,
   "id": "f82446af",
   "metadata": {},
   "outputs": [],
   "source": [
    "#pad1.Update()\n",
    "#pad1.RedrawAxis()\n",
    "pad1.RedrawAxis(\"G\")\n",
    "pad1.Update()"
   ]
  },
  {
   "cell_type": "code",
   "execution_count": 16,
   "id": "78de61c5",
   "metadata": {},
   "outputs": [
    {
     "data": {
      "text/plain": [
       "<cppyy.gbl.TPad object at 0x7f8639779d00>"
      ]
     },
     "execution_count": 16,
     "metadata": {},
     "output_type": "execute_result"
    }
   ],
   "source": [
    "pad2.cd()"
   ]
  },
  {
   "cell_type": "code",
   "execution_count": 17,
   "id": "129e8e38",
   "metadata": {},
   "outputs": [],
   "source": [
    "h2 = ROOT.TH1F(\"h2\", \"h2\", 80, xmin, xmax)\n",
    "padsize3 = 0\n",
    "h2.GetXaxis().SetTitleSize(0.050/(padsize2+0.3*padsize3))\n",
    "h2.GetXaxis().SetLabelSize(0.045/(padsize2+0.3*padsize3))\n",
    "h2.GetYaxis().SetTitleSize(0.050/(padsize2+0.3*padsize3))\n",
    "h2.GetYaxis().SetLabelSize(0.045/(padsize2+0.3*padsize3))\n",
    "h2.GetYaxis().SetTitleOffset(1.80*(padsize2+0.35*padsize3)*(600.0/W))\n",
    "h2.GetYaxis().SetNdivisions(8)\n",
    "h2.GetYaxis().CenterTitle()\n",
    "h2.GetYaxis().SetTitle(yrtitle)\n",
    "h2.GetXaxis().SetTitle(xtitle)\n",
    "h2.SetMinimum(yrmin)\n",
    "h2.SetMaximum(yrmax)\n",
    "h2.Draw()"
   ]
  },
  {
   "cell_type": "code",
   "execution_count": 18,
   "id": "59200ae6",
   "metadata": {},
   "outputs": [
    {
     "name": "stdout",
     "output_type": "stream",
     "text": [
      "array('d', [1.0077913999557495, 0.9834221005439758, 1.0196232795715332, 0.9867498874664307, 0.9935711622238159])\n"
     ]
    }
   ],
   "source": [
    "pad2.cd()\n",
    "base = 'Direct'\n",
    "val_base = results[base]\n",
    "rgraphs = []\n",
    "for key, val in results.items():\n",
    "    if key == 'Direct':\n",
    "        continue\n",
    "    # TGraphErrors only support array.array, not numpy arrays..???\n",
    "    xvals = array('d', val[:,0])\n",
    "    yvals = array('d', val[:,1] / val_base[:,1])\n",
    "    xerrs = array('d', val[:,2])\n",
    "    yerrs = array('d', np.sqrt(np.power(val[:,3]/val[:,1], 2.0) + np.power(val_base[:,3]/val_base[:,1],2.0)))\n",
    "    gr = ROOT.TGraphErrors(5, xvals, yvals, xerrs, yerrs)\n",
    "    print(yvals)\n",
    "    rgraphs.append(gr)\n",
    "\n",
    "for m in range(len(rgraphs)):\n",
    "    rgraphs[m].SetLineColor( colors[m+1] )\n",
    "    rgraphs[m].SetLineWidth( 2 )\n",
    "    rgraphs[m].SetMarkerColor( colors[m+1] )\n",
    "    rgraphs[m].SetMarkerStyle( styles[m+1] )\n",
    "    rgraphs[m].Draw('LEP,same')"
   ]
  },
  {
   "cell_type": "code",
   "execution_count": 19,
   "id": "51854311",
   "metadata": {},
   "outputs": [
    {
     "data": {
      "image/png": "[encoded data removed]",
      "text/plain": [
       "<IPython.core.display.Image object>"
      ]
     },
     "metadata": {},
     "output_type": "display_data"
    }
   ],
   "source": [
    "pad2.RedrawAxis(\"G\")\n",
    "pad2.Update()\n",
    "canvas.Draw()"
   ]
  },
  {
   "cell_type": "code",
   "execution_count": 20,
   "id": "dff166dc",
   "metadata": {},
   "outputs": [
    {
     "name": "stderr",
     "output_type": "stream",
     "text": [
      "Info in <TCanvas::Print>: pdf file CPUTest_throughput.pdf has been created\n"
     ]
    }
   ],
   "source": [
    "#canvas.SaveAs('plots_for_DPS/'+\"CPUTest_throughput.pdf\")\n",
    "canvas.SaveAs(\"CPUTest_throughput.pdf\")"
   ]
  },
  {
   "cell_type": "code",
   "execution_count": null,
   "id": "f2c7ddd6",
   "metadata": {},
   "outputs": [],
   "source": []
  }
 ],
 "metadata": {
  "kernelspec": {
   "display_name": "Python 3",
   "language": "python",
   "name": "python3"
  },
  "language_info": {
   "codemirror_mode": {
    "name": "ipython",
    "version": 3
   },
   "file_extension": ".py",
   "mimetype": "text/x-python",
   "name": "python",
   "nbconvert_exporter": "python",
   "pygments_lexer": "ipython3",
   "version": "3.9.6"
  }
 },
 "nbformat": 4,
 "nbformat_minor": 5
}
